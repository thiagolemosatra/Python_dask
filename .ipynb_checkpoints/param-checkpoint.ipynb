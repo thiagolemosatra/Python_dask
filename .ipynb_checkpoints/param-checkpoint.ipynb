{
 "cells": [
  {
   "cell_type": "code",
   "execution_count": 1,
   "id": "7d2329ab-7eb7-430c-8e85-95686d4e8b23",
   "metadata": {},
   "outputs": [],
   "source": [
    "import pandas as pd\n",
    "import parametros as p\n",
    "from sqlalchemy import table, column, select, types, Float\n",
    "\n",
    "from sqlalchemy.dialects import oracle"
   ]
  },
  {
   "cell_type": "code",
   "execution_count": 2,
   "id": "72c66bed-4e9a-4508-99ab-40c2d1f598bc",
   "metadata": {},
   "outputs": [],
   "source": [
    "tipos_pandas={\n",
    "    'COLUNA1': 'Float64',\n",
    "    'COLUNA2': 'Int64',\n",
    "    'COLUNA3': 'Float64'\n",
    "    \n",
    "}"
   ]
  },
  {
   "cell_type": "code",
   "execution_count": 3,
   "id": "c454cb90-5d7b-4332-802a-4aee1f4cb601",
   "metadata": {},
   "outputs": [],
   "source": [
    "tipos_oracle={\n",
    "    'Float64': 'oracle.FLOAT(binary_precision=53)',\n",
    "    'Int64': 'oracle.NUMBER'\n",
    "}"
   ]
  },
  {
   "cell_type": "code",
   "execution_count": 4,
   "id": "e1d2ab55-59aa-4e03-b7fb-a32ba502391e",
   "metadata": {},
   "outputs": [],
   "source": [
    "pandas_oracle={\n",
    "    k.lower(): tipos_oracle[v] for (k,v) in tipos_pandas.items()\n",
    "}"
   ]
  },
  {
   "cell_type": "code",
   "execution_count": 5,
   "id": "8c0d9b27-a23b-409e-9907-79f7bd2b9969",
   "metadata": {},
   "outputs": [],
   "source": [
    "chaves=['coluna3','coluna2']"
   ]
  },
  {
   "cell_type": "code",
   "execution_count": 6,
   "id": "61a825b9-5a74-4520-8c95-c8cbd11974ee",
   "metadata": {},
   "outputs": [
    {
     "data": {
      "text/plain": [
       "{'coluna1': 'oracle.FLOAT(binary_precision=53)',\n",
       " 'coluna2': 'oracle.NUMBER',\n",
       " 'coluna3': 'oracle.FLOAT(binary_precision=53)'}"
      ]
     },
     "execution_count": 6,
     "metadata": {},
     "output_type": "execute_result"
    }
   ],
   "source": [
    "pandas_oracle"
   ]
  },
  {
   "cell_type": "code",
   "execution_count": 7,
   "id": "554d7e4d-e43e-41c5-9d79-6b9bc40ec572",
   "metadata": {},
   "outputs": [
    {
     "ename": "KeyError",
     "evalue": "'COLUNA2'",
     "output_type": "error",
     "traceback": [
      "\u001b[0;31m---------------------------------------------------------------------------\u001b[0m",
      "\u001b[0;31mKeyError\u001b[0m                                  Traceback (most recent call last)",
      "Cell \u001b[0;32mIn[7], line 1\u001b[0m\n\u001b[0;32m----> 1\u001b[0m \u001b[43m{\u001b[49m\n\u001b[1;32m      2\u001b[0m \u001b[43m    \u001b[49m\u001b[43mk\u001b[49m\u001b[38;5;241;43m.\u001b[39;49m\u001b[43mlower\u001b[49m\u001b[43m(\u001b[49m\u001b[43m)\u001b[49m\u001b[43m:\u001b[49m\u001b[43m \u001b[49m\u001b[43mtipos_oracle\u001b[49m\u001b[43m[\u001b[49m\u001b[43mk\u001b[49m\u001b[43m]\u001b[49m\u001b[43m \u001b[49m\u001b[38;5;28;43;01mfor\u001b[39;49;00m\u001b[43m \u001b[49m\u001b[43m(\u001b[49m\u001b[43mk\u001b[49m\u001b[43m,\u001b[49m\u001b[43mv\u001b[49m\u001b[43m)\u001b[49m\u001b[43m \u001b[49m\u001b[38;5;129;43;01min\u001b[39;49;00m\u001b[43m \u001b[49m\u001b[43mtipos_pandas\u001b[49m\u001b[38;5;241;43m.\u001b[39;49m\u001b[43mitems\u001b[49m\u001b[43m(\u001b[49m\u001b[43m)\u001b[49m\u001b[43m \u001b[49m\u001b[38;5;28;43;01mif\u001b[39;49;00m\u001b[43m \u001b[49m\u001b[43mk\u001b[49m\u001b[38;5;241;43m.\u001b[39;49m\u001b[43mlower\u001b[49m\u001b[43m(\u001b[49m\u001b[43m)\u001b[49m\u001b[43m \u001b[49m\u001b[38;5;129;43;01min\u001b[39;49;00m\u001b[43m \u001b[49m\u001b[43mchaves\u001b[49m\n\u001b[1;32m      3\u001b[0m \u001b[43m}\u001b[49m\n",
      "Cell \u001b[0;32mIn[7], line 2\u001b[0m, in \u001b[0;36m<dictcomp>\u001b[0;34m(.0)\u001b[0m\n\u001b[1;32m      1\u001b[0m {\n\u001b[0;32m----> 2\u001b[0m     k\u001b[38;5;241m.\u001b[39mlower(): \u001b[43mtipos_oracle\u001b[49m\u001b[43m[\u001b[49m\u001b[43mk\u001b[49m\u001b[43m]\u001b[49m \u001b[38;5;28;01mfor\u001b[39;00m (k,v) \u001b[38;5;129;01min\u001b[39;00m tipos_pandas\u001b[38;5;241m.\u001b[39mitems() \u001b[38;5;28;01mif\u001b[39;00m k\u001b[38;5;241m.\u001b[39mlower() \u001b[38;5;129;01min\u001b[39;00m chaves\n\u001b[1;32m      3\u001b[0m }\n",
      "\u001b[0;31mKeyError\u001b[0m: 'COLUNA2'"
     ]
    }
   ],
   "source": [
    "{\n",
    "    k.lower(): tipos_oracle[k] for (k,v) in tipos_pandas.items() if k.lower() in chaves\n",
    "}"
   ]
  },
  {
   "cell_type": "code",
   "execution_count": 2,
   "id": "b688628f-aedb-47a8-ae29-ee2424a7927f",
   "metadata": {},
   "outputs": [],
   "source": [
    "chaves_lista= ['dat_ult_at','vlr_doc_seg_emit','vlr_premio_cobra','vlr_sinistro_avi','vlr_sinistro_pag']\n",
    "x=p.ParamApdw()\n",
    "teste=x.pandas_oracle(chaves_lista)"
   ]
  },
  {
   "cell_type": "code",
   "execution_count": 3,
   "id": "f6dd0555-deb9-428a-9e4b-9dd312250b1e",
   "metadata": {},
   "outputs": [
    {
     "data": {
      "text/plain": [
       "sqlalchemy.dialects.oracle.types.FLOAT"
      ]
     },
     "execution_count": 3,
     "metadata": {},
     "output_type": "execute_result"
    }
   ],
   "source": [
    "type(teste['vlr_doc_seg_emit'])"
   ]
  },
  {
   "cell_type": "code",
   "execution_count": 4,
   "id": "a418c898-21a2-4450-b4e3-c23aed447749",
   "metadata": {},
   "outputs": [
    {
     "data": {
      "text/plain": [
       "{'dat_ult_at': DATE(),\n",
       " 'vlr_doc_seg_emit': FLOAT(binary_precision=53),\n",
       " 'vlr_premio_cobra': FLOAT(binary_precision=53),\n",
       " 'vlr_sinistro_avi': FLOAT(binary_precision=53),\n",
       " 'vlr_sinistro_pag': FLOAT(binary_precision=53)}"
      ]
     },
     "execution_count": 4,
     "metadata": {},
     "output_type": "execute_result"
    }
   ],
   "source": [
    "teste"
   ]
  },
  {
   "cell_type": "code",
   "execution_count": null,
   "id": "162f33fd-b57e-4fc5-8b8c-9ed8f51d12c2",
   "metadata": {},
   "outputs": [],
   "source": []
  }
 ],
 "metadata": {
  "kernelspec": {
   "display_name": "Python 3 (ipykernel)",
   "language": "python",
   "name": "python3"
  },
  "language_info": {
   "codemirror_mode": {
    "name": "ipython",
    "version": 3
   },
   "file_extension": ".py",
   "mimetype": "text/x-python",
   "name": "python",
   "nbconvert_exporter": "python",
   "pygments_lexer": "ipython3",
   "version": "3.11.4"
  }
 },
 "nbformat": 4,
 "nbformat_minor": 5
}
