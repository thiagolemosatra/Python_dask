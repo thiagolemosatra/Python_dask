{
 "cells": [
  {
   "cell_type": "code",
   "execution_count": 4,
   "id": "b5e1c542-30a8-49d4-b5d5-aca6aa737eea",
   "metadata": {},
   "outputs": [],
   "source": [
    "import parametros as par\n",
    "import utils\n",
    "import dask.dataframe as dd\n",
    "from dask.distributed import Client\n",
    "import time\n",
    "import asyncio\n",
    "import pandas as pd\n",
    "from loguru import logger\n",
    "#from pandera.typing.dask import DataFrame, Series\n",
    "#import pandera as pa\n",
    "from sqlalchemy import table, column, select, types, Float\n",
    "from sqlalchemy.dialects import oracle\n",
    "from datetime import datetime \n",
    "import sqlalchemy\n",
    "import sys"
   ]
  },
  {
   "cell_type": "code",
   "execution_count": 5,
   "id": "bed929eb-7a7d-4a25-9389-747d3fac766c",
   "metadata": {},
   "outputs": [],
   "source": [
    "client= Client(\"tcp://10.128.0.48:8786\")"
   ]
  },
  {
   "cell_type": "code",
   "execution_count": 6,
   "id": "236ff5c6-2219-4fac-a071-361fe58d7053",
   "metadata": {},
   "outputs": [],
   "source": [
    "p=par.ParamApdw()"
   ]
  },
  {
   "cell_type": "code",
   "execution_count": 7,
   "id": "8c764a46-4b46-42a8-8a8d-722817f1d4b7",
   "metadata": {},
   "outputs": [],
   "source": [
    "data=p.arquivo_origem"
   ]
  },
  {
   "cell_type": "code",
   "execution_count": 8,
   "id": "7bfa3935-bae4-423a-9f93-c57903d1dc18",
   "metadata": {},
   "outputs": [],
   "source": [
    "url_db = p.url_db"
   ]
  },
  {
   "cell_type": "code",
   "execution_count": 9,
   "id": "b4509670-3fed-4fbf-9b49-857ed4ece320",
   "metadata": {},
   "outputs": [
    {
     "data": {
      "text/plain": [
       "1"
      ]
     },
     "execution_count": 9,
     "metadata": {},
     "output_type": "execute_result"
    }
   ],
   "source": [
    "timestamp=datetime.today().strftime('%Y-%m-%d_%H:%M')\n",
    "logger.add(f'out_{timestamp}.log', level=\"TRACE\", serialize=True, backtrace= True, diagnose=True)"
   ]
  },
  {
   "cell_type": "code",
   "execution_count": 49,
   "id": "e6bb99ff-573d-4146-97e5-8f5964c00d99",
   "metadata": {},
   "outputs": [],
   "source": [
    "def read_oracle(colunas=None,meta=None):\n",
    "    #le  a tabela\n",
    "   try:\n",
    "        logger.info(\"Iniciando leitura do Oracle\")\n",
    "        if (colunas is None) & (meta is None) :\n",
    "            df = dd.read_sql_table(table_name='tb_raw_data', con=url_db,index_col= 'cod', dtype={\n",
    "                k.lower(): p.schema_base[k] for k in p.schema_base \n",
    "                }).reset_index()\n",
    "            #erro abaixo sucess\n",
    "            logger.success(\"Leitura de toda a tabela concluida.\")\n",
    "            return df\n",
    "        elif meta is not None:\n",
    "            df = dd.read_sql_table(table_name='tb_raw_data', con=url_db,index_col= 'cod', meta= p.meta_schema)\n",
    "            logger.success(\"Leitura dos Metadados concluida.\")\n",
    "            return df\n",
    "        else:\n",
    "            df = dd.read_sql_table(table_name='tb_raw_data', columns=colunas, con=url_db,index_col= 'cod', dtype={\n",
    "                k.lower(): p.schema_base[k] for k in p.schema_base if k.lower() in colunas\n",
    "                }).reset_index()\n",
    "            logger.success(\"Leitura das colunas concluida.\")\n",
    "            return df\n",
    "   except sqlalchemy.exc.NoSuchTableError as e:\n",
    "        logger.error(f\"Erro na leitura do Oracle: {e}\")\n",
    "        "
   ]
  },
  {
   "cell_type": "markdown",
   "id": "ce12e08b-cfd1-45a7-b615-b8ebb49d601a",
   "metadata": {},
   "source": [
    "LEITURA BRUTA DE DADOS DO DIRETORIO\n",
    "===================================================================================="
   ]
  },
  {
   "cell_type": "code",
   "execution_count": 10,
   "id": "cb6aef3d-b9c4-45be-88c4-c312538193da",
   "metadata": {},
   "outputs": [],
   "source": [
    "def read_raw_data(data,timestamp_ini):\n",
    "    #le os dados\n",
    "    \n",
    "    try:\n",
    "        logger.info(\"Lendo dados\")\n",
    "        df=dd.read_csv(data, sep=\"|\", assume_missing=True).astype(dtype=p.raw_schema_base)\n",
    "        logger.success(\"Leitura concluida\")\n",
    "        return df\n",
    "    except Exception as e:\n",
    "        logger.error(f\"Erro na leitura do arquivo:{e}\")\n",
    "        utils.update_log_fim(nome_processo='Pipeline_Raw',timestamp_ini=timestamp_ini,status='Falha',motivo_erro=f'{e.__class__.__name__}: {e}')\n",
    "\n",
    "    "
   ]
  },
  {
   "cell_type": "code",
   "execution_count": 11,
   "id": "510f9fe7-f298-4fbc-b6a5-55cab0df0d0f",
   "metadata": {},
   "outputs": [],
   "source": [
    "def pipeline_raw_oracle(df,timestamp_ini):    \n",
    "    try:\n",
    "        start_time = time.time()\n",
    "        logger.info(\"Iniciando Inserção no Oracle\")\n",
    "        df_result=(\n",
    "            df.drop('Unnamed: 11', axis=1)\n",
    "              .assign(DAT_ULT_AT=dd.to_datetime(df['DAT_ULT_AT'],format='%Y-%m-%d',errors='coerce'))\n",
    "              .to_sql(\"tb_raw_data\",url_db, if_exists='replace', index=False,  \n",
    "                      compute=True, parallel=True, chunksize=500,dtype={\n",
    "                          k: p.oracle_types[v] for (k,v) in p.schema_base.items() if k in (p.raw_schema_base.keys())\n",
    "                      }\n",
    "                     )            \n",
    "        )\n",
    "        end_time = time.time()\n",
    "        elapsed_time = end_time - start_time\n",
    "        logger.success(f\"Inserção concluida, {round(elapsed_time,2)} segs \")\n",
    "        utils.update_log_fim(nome_processo='Pipeline_Raw',timestamp_ini=timestamp_ini,status='Sucesso')\n",
    "    except Exception as e:\n",
    "        logger.error(\"Erro no envio bruto para o Oracle\")\n",
    "        utils.update_log_fim(nome_processo='Pipeline_Raw',timestamp_ini=timestamp_ini,status='Falha',motivo_erro=f'{e.__class__.__name__}: {e}')\n"
   ]
  },
  {
   "cell_type": "code",
   "execution_count": 12,
   "id": "a1eaf7ed-6f14-4c13-a504-ddd33fe94b9c",
   "metadata": {},
   "outputs": [
    {
     "name": "stderr",
     "output_type": "stream",
     "text": [
      "\u001b[32m2023-09-14 18:07:40.812\u001b[0m | \u001b[1mINFO    \u001b[0m | \u001b[36m__main__\u001b[0m:\u001b[36mread_raw_data\u001b[0m:\u001b[36m5\u001b[0m - \u001b[1mLendo dados\u001b[0m\n",
      "\u001b[32m2023-09-14 18:07:40.853\u001b[0m | \u001b[32m\u001b[1mSUCCESS \u001b[0m | \u001b[36m__main__\u001b[0m:\u001b[36mread_raw_data\u001b[0m:\u001b[36m7\u001b[0m - \u001b[32m\u001b[1mLeitura concluida\u001b[0m\n",
      "\u001b[32m2023-09-14 18:07:40.855\u001b[0m | \u001b[1mINFO    \u001b[0m | \u001b[36m__main__\u001b[0m:\u001b[36mpipeline_raw_oracle\u001b[0m:\u001b[36m4\u001b[0m - \u001b[1mIniciando Inserção no Oracle\u001b[0m\n",
      "\u001b[32m2023-09-14 18:07:45.825\u001b[0m | \u001b[31m\u001b[1mERROR   \u001b[0m | \u001b[36m__main__\u001b[0m:\u001b[36mpipeline_raw_oracle\u001b[0m:\u001b[36m19\u001b[0m - \u001b[31m\u001b[1mErro no envio bruto para o Oracle\u001b[0m\n"
     ]
    },
    {
     "ename": "AttributeError",
     "evalue": "module 'utils' has no attribute 'update_log_fim'",
     "output_type": "error",
     "traceback": [
      "\u001b[0;31m---------------------------------------------------------------------------\u001b[0m",
      "\u001b[0;31mOperationalError\u001b[0m                          Traceback (most recent call last)",
      "File \u001b[0;32m/home/thiago_lemos/anaconda3/envs/poc_dask/lib/python3.11/site-packages/sqlalchemy/engine/base.py:1965\u001b[0m, in \u001b[0;36m_exec_single_context\u001b[0;34m()\u001b[0m\n",
      "File \u001b[0;32m/home/thiago_lemos/anaconda3/envs/poc_dask/lib/python3.11/site-packages/sqlalchemy/engine/default.py:921\u001b[0m, in \u001b[0;36mdo_execute\u001b[0;34m()\u001b[0m\n",
      "\u001b[0;31mOperationalError\u001b[0m: ORA-00604: error occurred at recursive SQL level 1\nORA-12954: The request exceeds the maximum allowed database size of 12 GB.",
      "\nThe above exception was the direct cause of the following exception:\n",
      "\u001b[0;31mOperationalError\u001b[0m                          Traceback (most recent call last)",
      "Cell \u001b[0;32mIn[11], line 8\u001b[0m, in \u001b[0;36mpipeline_raw_oracle\u001b[0;34m(df, timestamp_ini)\u001b[0m\n\u001b[1;32m      4\u001b[0m logger\u001b[38;5;241m.\u001b[39minfo(\u001b[38;5;124m\"\u001b[39m\u001b[38;5;124mIniciando Inserção no Oracle\u001b[39m\u001b[38;5;124m\"\u001b[39m)\n\u001b[1;32m      5\u001b[0m df_result\u001b[38;5;241m=\u001b[39m(\n\u001b[1;32m      6\u001b[0m     \u001b[43mdf\u001b[49m\u001b[38;5;241;43m.\u001b[39;49m\u001b[43mdrop\u001b[49m\u001b[43m(\u001b[49m\u001b[38;5;124;43m'\u001b[39;49m\u001b[38;5;124;43mUnnamed: 11\u001b[39;49m\u001b[38;5;124;43m'\u001b[39;49m\u001b[43m,\u001b[49m\u001b[43m \u001b[49m\u001b[43maxis\u001b[49m\u001b[38;5;241;43m=\u001b[39;49m\u001b[38;5;241;43m1\u001b[39;49m\u001b[43m)\u001b[49m\n\u001b[1;32m      7\u001b[0m \u001b[43m      \u001b[49m\u001b[38;5;241;43m.\u001b[39;49m\u001b[43massign\u001b[49m\u001b[43m(\u001b[49m\u001b[43mDAT_ULT_AT\u001b[49m\u001b[38;5;241;43m=\u001b[39;49m\u001b[43mdd\u001b[49m\u001b[38;5;241;43m.\u001b[39;49m\u001b[43mto_datetime\u001b[49m\u001b[43m(\u001b[49m\u001b[43mdf\u001b[49m\u001b[43m[\u001b[49m\u001b[38;5;124;43m'\u001b[39;49m\u001b[38;5;124;43mDAT_ULT_AT\u001b[39;49m\u001b[38;5;124;43m'\u001b[39;49m\u001b[43m]\u001b[49m\u001b[43m,\u001b[49m\u001b[38;5;28;43mformat\u001b[39;49m\u001b[38;5;241;43m=\u001b[39;49m\u001b[38;5;124;43m'\u001b[39;49m\u001b[38;5;124;43m%\u001b[39;49m\u001b[38;5;124;43mY-\u001b[39;49m\u001b[38;5;124;43m%\u001b[39;49m\u001b[38;5;124;43mm-\u001b[39;49m\u001b[38;5;132;43;01m%d\u001b[39;49;00m\u001b[38;5;124;43m'\u001b[39;49m\u001b[43m,\u001b[49m\u001b[43merrors\u001b[49m\u001b[38;5;241;43m=\u001b[39;49m\u001b[38;5;124;43m'\u001b[39;49m\u001b[38;5;124;43mcoerce\u001b[39;49m\u001b[38;5;124;43m'\u001b[39;49m\u001b[43m)\u001b[49m\u001b[43m)\u001b[49m\n\u001b[0;32m----> 8\u001b[0m \u001b[43m      \u001b[49m\u001b[38;5;241;43m.\u001b[39;49m\u001b[43mto_sql\u001b[49m\u001b[43m(\u001b[49m\u001b[38;5;124;43m\"\u001b[39;49m\u001b[38;5;124;43mtb_raw_data\u001b[39;49m\u001b[38;5;124;43m\"\u001b[39;49m\u001b[43m,\u001b[49m\u001b[43murl_db\u001b[49m\u001b[43m,\u001b[49m\u001b[43m \u001b[49m\u001b[43mif_exists\u001b[49m\u001b[38;5;241;43m=\u001b[39;49m\u001b[38;5;124;43m'\u001b[39;49m\u001b[38;5;124;43mreplace\u001b[39;49m\u001b[38;5;124;43m'\u001b[39;49m\u001b[43m,\u001b[49m\u001b[43m \u001b[49m\u001b[43mindex\u001b[49m\u001b[38;5;241;43m=\u001b[39;49m\u001b[38;5;28;43;01mFalse\u001b[39;49;00m\u001b[43m,\u001b[49m\u001b[43m  \u001b[49m\n\u001b[1;32m      9\u001b[0m \u001b[43m              \u001b[49m\u001b[43mcompute\u001b[49m\u001b[38;5;241;43m=\u001b[39;49m\u001b[38;5;28;43;01mTrue\u001b[39;49;00m\u001b[43m,\u001b[49m\u001b[43m \u001b[49m\u001b[43mparallel\u001b[49m\u001b[38;5;241;43m=\u001b[39;49m\u001b[38;5;28;43;01mTrue\u001b[39;49;00m\u001b[43m,\u001b[49m\u001b[43m \u001b[49m\u001b[43mchunksize\u001b[49m\u001b[38;5;241;43m=\u001b[39;49m\u001b[38;5;241;43m500\u001b[39;49m\u001b[43m,\u001b[49m\u001b[43mdtype\u001b[49m\u001b[38;5;241;43m=\u001b[39;49m\u001b[43m{\u001b[49m\n\u001b[1;32m     10\u001b[0m \u001b[43m                  \u001b[49m\u001b[43mk\u001b[49m\u001b[43m:\u001b[49m\u001b[43m \u001b[49m\u001b[43mp\u001b[49m\u001b[38;5;241;43m.\u001b[39;49m\u001b[43moracle_types\u001b[49m\u001b[43m[\u001b[49m\u001b[43mv\u001b[49m\u001b[43m]\u001b[49m\u001b[43m \u001b[49m\u001b[38;5;28;43;01mfor\u001b[39;49;00m\u001b[43m \u001b[49m\u001b[43m(\u001b[49m\u001b[43mk\u001b[49m\u001b[43m,\u001b[49m\u001b[43mv\u001b[49m\u001b[43m)\u001b[49m\u001b[43m \u001b[49m\u001b[38;5;129;43;01min\u001b[39;49;00m\u001b[43m \u001b[49m\u001b[43mp\u001b[49m\u001b[38;5;241;43m.\u001b[39;49m\u001b[43mschema_base\u001b[49m\u001b[38;5;241;43m.\u001b[39;49m\u001b[43mitems\u001b[49m\u001b[43m(\u001b[49m\u001b[43m)\u001b[49m\u001b[43m \u001b[49m\u001b[38;5;28;43;01mif\u001b[39;49;00m\u001b[43m \u001b[49m\u001b[43mk\u001b[49m\u001b[43m \u001b[49m\u001b[38;5;129;43;01min\u001b[39;49;00m\u001b[43m \u001b[49m\u001b[43m(\u001b[49m\u001b[43mp\u001b[49m\u001b[38;5;241;43m.\u001b[39;49m\u001b[43mraw_schema_base\u001b[49m\u001b[38;5;241;43m.\u001b[39;49m\u001b[43mkeys\u001b[49m\u001b[43m(\u001b[49m\u001b[43m)\u001b[49m\u001b[43m)\u001b[49m\n\u001b[1;32m     11\u001b[0m \u001b[43m              \u001b[49m\u001b[43m}\u001b[49m\n\u001b[1;32m     12\u001b[0m \u001b[43m             \u001b[49m\u001b[43m)\u001b[49m            \n\u001b[1;32m     13\u001b[0m )\n\u001b[1;32m     14\u001b[0m end_time \u001b[38;5;241m=\u001b[39m time\u001b[38;5;241m.\u001b[39mtime()\n",
      "File \u001b[0;32m~/anaconda3/envs/poc_dask/lib/python3.11/site-packages/dask/dataframe/core.py:1880\u001b[0m, in \u001b[0;36m_Frame.to_sql\u001b[0;34m(self, name, uri, schema, if_exists, index, index_label, chunksize, dtype, method, compute, parallel, engine_kwargs)\u001b[0m\n\u001b[1;32m   1878\u001b[0m \u001b[38;5;28;01mfrom\u001b[39;00m \u001b[38;5;21;01mdask\u001b[39;00m\u001b[38;5;21;01m.\u001b[39;00m\u001b[38;5;21;01mdataframe\u001b[39;00m\u001b[38;5;21;01m.\u001b[39;00m\u001b[38;5;21;01mio\u001b[39;00m \u001b[38;5;28;01mimport\u001b[39;00m to_sql\n\u001b[0;32m-> 1880\u001b[0m \u001b[38;5;28;01mreturn\u001b[39;00m \u001b[43mto_sql\u001b[49m\u001b[43m(\u001b[49m\n\u001b[1;32m   1881\u001b[0m \u001b[43m    \u001b[49m\u001b[38;5;28;43mself\u001b[39;49m\u001b[43m,\u001b[49m\n\u001b[1;32m   1882\u001b[0m \u001b[43m    \u001b[49m\u001b[43mname\u001b[49m\u001b[38;5;241;43m=\u001b[39;49m\u001b[43mname\u001b[49m\u001b[43m,\u001b[49m\n\u001b[1;32m   1883\u001b[0m \u001b[43m    \u001b[49m\u001b[43muri\u001b[49m\u001b[38;5;241;43m=\u001b[39;49m\u001b[43muri\u001b[49m\u001b[43m,\u001b[49m\n\u001b[1;32m   1884\u001b[0m \u001b[43m    \u001b[49m\u001b[43mschema\u001b[49m\u001b[38;5;241;43m=\u001b[39;49m\u001b[43mschema\u001b[49m\u001b[43m,\u001b[49m\n\u001b[1;32m   1885\u001b[0m \u001b[43m    \u001b[49m\u001b[43mif_exists\u001b[49m\u001b[38;5;241;43m=\u001b[39;49m\u001b[43mif_exists\u001b[49m\u001b[43m,\u001b[49m\n\u001b[1;32m   1886\u001b[0m \u001b[43m    \u001b[49m\u001b[43mindex\u001b[49m\u001b[38;5;241;43m=\u001b[39;49m\u001b[43mindex\u001b[49m\u001b[43m,\u001b[49m\n\u001b[1;32m   1887\u001b[0m \u001b[43m    \u001b[49m\u001b[43mindex_label\u001b[49m\u001b[38;5;241;43m=\u001b[39;49m\u001b[43mindex_label\u001b[49m\u001b[43m,\u001b[49m\n\u001b[1;32m   1888\u001b[0m \u001b[43m    \u001b[49m\u001b[43mchunksize\u001b[49m\u001b[38;5;241;43m=\u001b[39;49m\u001b[43mchunksize\u001b[49m\u001b[43m,\u001b[49m\n\u001b[1;32m   1889\u001b[0m \u001b[43m    \u001b[49m\u001b[43mdtype\u001b[49m\u001b[38;5;241;43m=\u001b[39;49m\u001b[43mdtype\u001b[49m\u001b[43m,\u001b[49m\n\u001b[1;32m   1890\u001b[0m \u001b[43m    \u001b[49m\u001b[43mmethod\u001b[49m\u001b[38;5;241;43m=\u001b[39;49m\u001b[43mmethod\u001b[49m\u001b[43m,\u001b[49m\n\u001b[1;32m   1891\u001b[0m \u001b[43m    \u001b[49m\u001b[43mcompute\u001b[49m\u001b[38;5;241;43m=\u001b[39;49m\u001b[43mcompute\u001b[49m\u001b[43m,\u001b[49m\n\u001b[1;32m   1892\u001b[0m \u001b[43m    \u001b[49m\u001b[43mparallel\u001b[49m\u001b[38;5;241;43m=\u001b[39;49m\u001b[43mparallel\u001b[49m\u001b[43m,\u001b[49m\n\u001b[1;32m   1893\u001b[0m \u001b[43m    \u001b[49m\u001b[43mengine_kwargs\u001b[49m\u001b[38;5;241;43m=\u001b[39;49m\u001b[43mengine_kwargs\u001b[49m\u001b[43m,\u001b[49m\n\u001b[1;32m   1894\u001b[0m \u001b[43m\u001b[49m\u001b[43m)\u001b[49m\n",
      "File \u001b[0;32m~/anaconda3/envs/poc_dask/lib/python3.11/site-packages/dask/dataframe/io/sql.py:603\u001b[0m, in \u001b[0;36mto_sql\u001b[0;34m(df, name, uri, schema, if_exists, index, index_label, chunksize, dtype, method, compute, parallel, engine_kwargs)\u001b[0m\n\u001b[1;32m    602\u001b[0m \u001b[38;5;28;01mif\u001b[39;00m compute:\n\u001b[0;32m--> 603\u001b[0m     \u001b[43mdask_compute\u001b[49m\u001b[43m(\u001b[49m\u001b[43mresult\u001b[49m\u001b[43m)\u001b[49m\n\u001b[1;32m    604\u001b[0m \u001b[38;5;28;01melse\u001b[39;00m:\n",
      "File \u001b[0;32m~/anaconda3/envs/poc_dask/lib/python3.11/site-packages/dask/base.py:666\u001b[0m, in \u001b[0;36mcompute\u001b[0;34m(traverse, optimize_graph, scheduler, get, *args, **kwargs)\u001b[0m\n\u001b[1;32m    664\u001b[0m     postcomputes\u001b[38;5;241m.\u001b[39mappend(x\u001b[38;5;241m.\u001b[39m__dask_postcompute__())\n\u001b[0;32m--> 666\u001b[0m results \u001b[38;5;241m=\u001b[39m \u001b[43mschedule\u001b[49m\u001b[43m(\u001b[49m\u001b[43mdsk\u001b[49m\u001b[43m,\u001b[49m\u001b[43m \u001b[49m\u001b[43mkeys\u001b[49m\u001b[43m,\u001b[49m\u001b[43m \u001b[49m\u001b[38;5;241;43m*\u001b[39;49m\u001b[38;5;241;43m*\u001b[39;49m\u001b[43mkwargs\u001b[49m\u001b[43m)\u001b[49m\n\u001b[1;32m    667\u001b[0m \u001b[38;5;28;01mreturn\u001b[39;00m repack([f(r, \u001b[38;5;241m*\u001b[39ma) \u001b[38;5;28;01mfor\u001b[39;00m r, (f, a) \u001b[38;5;129;01min\u001b[39;00m \u001b[38;5;28mzip\u001b[39m(results, postcomputes)])\n",
      "File \u001b[0;32m~/anaconda3/envs/poc_dask/lib/python3.11/site-packages/distributed/client.py:3259\u001b[0m, in \u001b[0;36mClient.get\u001b[0;34m(self, dsk, keys, workers, allow_other_workers, resources, sync, asynchronous, direct, retries, priority, fifo_timeout, actors, **kwargs)\u001b[0m\n\u001b[1;32m   3258\u001b[0m \u001b[38;5;28;01mtry\u001b[39;00m:\n\u001b[0;32m-> 3259\u001b[0m     results \u001b[38;5;241m=\u001b[39m \u001b[38;5;28;43mself\u001b[39;49m\u001b[38;5;241;43m.\u001b[39;49m\u001b[43mgather\u001b[49m\u001b[43m(\u001b[49m\u001b[43mpacked\u001b[49m\u001b[43m,\u001b[49m\u001b[43m \u001b[49m\u001b[43masynchronous\u001b[49m\u001b[38;5;241;43m=\u001b[39;49m\u001b[43masynchronous\u001b[49m\u001b[43m,\u001b[49m\u001b[43m \u001b[49m\u001b[43mdirect\u001b[49m\u001b[38;5;241;43m=\u001b[39;49m\u001b[43mdirect\u001b[49m\u001b[43m)\u001b[49m\n\u001b[1;32m   3260\u001b[0m \u001b[38;5;28;01mfinally\u001b[39;00m:\n",
      "File \u001b[0;32m~/anaconda3/envs/poc_dask/lib/python3.11/site-packages/distributed/client.py:2384\u001b[0m, in \u001b[0;36mClient.gather\u001b[0;34m(self, futures, errors, direct, asynchronous)\u001b[0m\n\u001b[1;32m   2383\u001b[0m     local_worker \u001b[38;5;241m=\u001b[39m \u001b[38;5;28;01mNone\u001b[39;00m\n\u001b[0;32m-> 2384\u001b[0m \u001b[38;5;28;01mreturn\u001b[39;00m \u001b[38;5;28;43mself\u001b[39;49m\u001b[38;5;241;43m.\u001b[39;49m\u001b[43msync\u001b[49m\u001b[43m(\u001b[49m\n\u001b[1;32m   2385\u001b[0m \u001b[43m    \u001b[49m\u001b[38;5;28;43mself\u001b[39;49m\u001b[38;5;241;43m.\u001b[39;49m\u001b[43m_gather\u001b[49m\u001b[43m,\u001b[49m\n\u001b[1;32m   2386\u001b[0m \u001b[43m    \u001b[49m\u001b[43mfutures\u001b[49m\u001b[43m,\u001b[49m\n\u001b[1;32m   2387\u001b[0m \u001b[43m    \u001b[49m\u001b[43merrors\u001b[49m\u001b[38;5;241;43m=\u001b[39;49m\u001b[43merrors\u001b[49m\u001b[43m,\u001b[49m\n\u001b[1;32m   2388\u001b[0m \u001b[43m    \u001b[49m\u001b[43mdirect\u001b[49m\u001b[38;5;241;43m=\u001b[39;49m\u001b[43mdirect\u001b[49m\u001b[43m,\u001b[49m\n\u001b[1;32m   2389\u001b[0m \u001b[43m    \u001b[49m\u001b[43mlocal_worker\u001b[49m\u001b[38;5;241;43m=\u001b[39;49m\u001b[43mlocal_worker\u001b[49m\u001b[43m,\u001b[49m\n\u001b[1;32m   2390\u001b[0m \u001b[43m    \u001b[49m\u001b[43masynchronous\u001b[49m\u001b[38;5;241;43m=\u001b[39;49m\u001b[43masynchronous\u001b[49m\u001b[43m,\u001b[49m\n\u001b[1;32m   2391\u001b[0m \u001b[43m\u001b[49m\u001b[43m)\u001b[49m\n",
      "File \u001b[0;32m~/anaconda3/envs/poc_dask/lib/python3.11/site-packages/distributed/utils.py:359\u001b[0m, in \u001b[0;36mSyncMethodMixin.sync\u001b[0;34m(self, func, asynchronous, callback_timeout, *args, **kwargs)\u001b[0m\n\u001b[1;32m    358\u001b[0m \u001b[38;5;28;01melse\u001b[39;00m:\n\u001b[0;32m--> 359\u001b[0m     \u001b[38;5;28;01mreturn\u001b[39;00m \u001b[43msync\u001b[49m\u001b[43m(\u001b[49m\n\u001b[1;32m    360\u001b[0m \u001b[43m        \u001b[49m\u001b[38;5;28;43mself\u001b[39;49m\u001b[38;5;241;43m.\u001b[39;49m\u001b[43mloop\u001b[49m\u001b[43m,\u001b[49m\u001b[43m \u001b[49m\u001b[43mfunc\u001b[49m\u001b[43m,\u001b[49m\u001b[43m \u001b[49m\u001b[38;5;241;43m*\u001b[39;49m\u001b[43margs\u001b[49m\u001b[43m,\u001b[49m\u001b[43m \u001b[49m\u001b[43mcallback_timeout\u001b[49m\u001b[38;5;241;43m=\u001b[39;49m\u001b[43mcallback_timeout\u001b[49m\u001b[43m,\u001b[49m\u001b[43m \u001b[49m\u001b[38;5;241;43m*\u001b[39;49m\u001b[38;5;241;43m*\u001b[39;49m\u001b[43mkwargs\u001b[49m\n\u001b[1;32m    361\u001b[0m \u001b[43m    \u001b[49m\u001b[43m)\u001b[49m\n",
      "File \u001b[0;32m~/anaconda3/envs/poc_dask/lib/python3.11/site-packages/distributed/utils.py:426\u001b[0m, in \u001b[0;36msync\u001b[0;34m(loop, func, callback_timeout, *args, **kwargs)\u001b[0m\n\u001b[1;32m    425\u001b[0m     typ, exc, tb \u001b[38;5;241m=\u001b[39m error\n\u001b[0;32m--> 426\u001b[0m     \u001b[38;5;28;01mraise\u001b[39;00m exc\u001b[38;5;241m.\u001b[39mwith_traceback(tb)\n\u001b[1;32m    427\u001b[0m \u001b[38;5;28;01melse\u001b[39;00m:\n",
      "File \u001b[0;32m~/anaconda3/envs/poc_dask/lib/python3.11/site-packages/distributed/utils.py:399\u001b[0m, in \u001b[0;36msync.<locals>.f\u001b[0;34m()\u001b[0m\n\u001b[1;32m    398\u001b[0m     future \u001b[38;5;241m=\u001b[39m asyncio\u001b[38;5;241m.\u001b[39mensure_future(future)\n\u001b[0;32m--> 399\u001b[0m     result \u001b[38;5;241m=\u001b[39m \u001b[38;5;28;01myield\u001b[39;00m future\n\u001b[1;32m    400\u001b[0m \u001b[38;5;28;01mexcept\u001b[39;00m \u001b[38;5;167;01mException\u001b[39;00m:\n",
      "File \u001b[0;32m~/anaconda3/envs/poc_dask/lib/python3.11/site-packages/tornado/gen.py:769\u001b[0m, in \u001b[0;36mRunner.run\u001b[0;34m(self)\u001b[0m\n\u001b[1;32m    768\u001b[0m \u001b[38;5;28;01mtry\u001b[39;00m:\n\u001b[0;32m--> 769\u001b[0m     value \u001b[38;5;241m=\u001b[39m future\u001b[38;5;241m.\u001b[39mresult()\n\u001b[1;32m    770\u001b[0m \u001b[38;5;28;01mexcept\u001b[39;00m \u001b[38;5;167;01mException\u001b[39;00m:\n",
      "File \u001b[0;32m~/anaconda3/envs/poc_dask/lib/python3.11/site-packages/distributed/client.py:2247\u001b[0m, in \u001b[0;36mClient._gather\u001b[0;34m(self, futures, errors, direct, local_worker)\u001b[0m\n\u001b[1;32m   2246\u001b[0m \u001b[38;5;28;01melse\u001b[39;00m:\n\u001b[0;32m-> 2247\u001b[0m     \u001b[38;5;28;01mraise\u001b[39;00m exception\u001b[38;5;241m.\u001b[39mwith_traceback(traceback)\n\u001b[1;32m   2248\u001b[0m \u001b[38;5;28;01mraise\u001b[39;00m exc\n",
      "File \u001b[0;32m/home/thiago_lemos/anaconda3/envs/poc_dask/lib/python3.11/site-packages/dask/utils.py:73\u001b[0m, in \u001b[0;36mapply\u001b[0;34m()\u001b[0m\n",
      "File \u001b[0;32m/home/thiago_lemos/anaconda3/envs/poc_dask/lib/python3.11/site-packages/dask/dataframe/io/sql.py:421\u001b[0m, in \u001b[0;36m_to_sql_chunk\u001b[0;34m()\u001b[0m\n",
      "File \u001b[0;32m/home/thiago_lemos/anaconda3/envs/poc_dask/lib/python3.11/site-packages/pandas/core/generic.py:2878\u001b[0m, in \u001b[0;36mto_sql\u001b[0;34m()\u001b[0m\n",
      "File \u001b[0;32m/home/thiago_lemos/anaconda3/envs/poc_dask/lib/python3.11/site-packages/pandas/io/sql.py:769\u001b[0m, in \u001b[0;36mto_sql\u001b[0;34m()\u001b[0m\n",
      "File \u001b[0;32m/home/thiago_lemos/anaconda3/envs/poc_dask/lib/python3.11/site-packages/pandas/io/sql.py:1910\u001b[0m, in \u001b[0;36mto_sql\u001b[0;34m()\u001b[0m\n",
      "File \u001b[0;32m/home/thiago_lemos/anaconda3/envs/poc_dask/lib/python3.11/site-packages/pandas/io/sql.py:1814\u001b[0m, in \u001b[0;36mprep_table\u001b[0;34m()\u001b[0m\n",
      "File \u001b[0;32m/home/thiago_lemos/anaconda3/envs/poc_dask/lib/python3.11/site-packages/pandas/io/sql.py:907\u001b[0m, in \u001b[0;36mcreate\u001b[0;34m()\u001b[0m\n",
      "File \u001b[0;32m/home/thiago_lemos/anaconda3/envs/poc_dask/lib/python3.11/site-packages/pandas/io/sql.py:1963\u001b[0m, in \u001b[0;36mdrop_table\u001b[0;34m()\u001b[0m\n",
      "File \u001b[0;32m/home/thiago_lemos/anaconda3/envs/poc_dask/lib/python3.11/site-packages/sqlalchemy/sql/schema.py:1303\u001b[0m, in \u001b[0;36mdrop\u001b[0;34m()\u001b[0m\n",
      "File \u001b[0;32m/home/thiago_lemos/anaconda3/envs/poc_dask/lib/python3.11/site-packages/sqlalchemy/engine/base.py:2443\u001b[0m, in \u001b[0;36m_run_ddl_visitor\u001b[0;34m()\u001b[0m\n",
      "File \u001b[0;32m/home/thiago_lemos/anaconda3/envs/poc_dask/lib/python3.11/site-packages/sqlalchemy/sql/visitors.py:670\u001b[0m, in \u001b[0;36mtraverse_single\u001b[0;34m()\u001b[0m\n",
      "File \u001b[0;32m/home/thiago_lemos/anaconda3/envs/poc_dask/lib/python3.11/site-packages/sqlalchemy/sql/ddl.py:1145\u001b[0m, in \u001b[0;36mvisit_table\u001b[0;34m()\u001b[0m\n",
      "File \u001b[0;32m/home/thiago_lemos/anaconda3/envs/poc_dask/lib/python3.11/site-packages/sqlalchemy/sql/ddl.py:315\u001b[0m, in \u001b[0;36m_invoke_with\u001b[0;34m()\u001b[0m\n",
      "File \u001b[0;32m/home/thiago_lemos/anaconda3/envs/poc_dask/lib/python3.11/site-packages/sqlalchemy/engine/base.py:1412\u001b[0m, in \u001b[0;36mexecute\u001b[0;34m()\u001b[0m\n",
      "File \u001b[0;32m/home/thiago_lemos/anaconda3/envs/poc_dask/lib/python3.11/site-packages/sqlalchemy/sql/ddl.py:181\u001b[0m, in \u001b[0;36m_execute_on_connection\u001b[0;34m()\u001b[0m\n",
      "File \u001b[0;32m/home/thiago_lemos/anaconda3/envs/poc_dask/lib/python3.11/site-packages/sqlalchemy/engine/base.py:1524\u001b[0m, in \u001b[0;36m_execute_ddl\u001b[0;34m()\u001b[0m\n",
      "File \u001b[0;32m/home/thiago_lemos/anaconda3/envs/poc_dask/lib/python3.11/site-packages/sqlalchemy/engine/base.py:1844\u001b[0m, in \u001b[0;36m_execute_context\u001b[0;34m()\u001b[0m\n",
      "File \u001b[0;32m/home/thiago_lemos/anaconda3/envs/poc_dask/lib/python3.11/site-packages/sqlalchemy/engine/base.py:1984\u001b[0m, in \u001b[0;36m_exec_single_context\u001b[0;34m()\u001b[0m\n",
      "File \u001b[0;32m/home/thiago_lemos/anaconda3/envs/poc_dask/lib/python3.11/site-packages/sqlalchemy/engine/base.py:2339\u001b[0m, in \u001b[0;36m_handle_dbapi_exception\u001b[0;34m()\u001b[0m\n",
      "File \u001b[0;32m/home/thiago_lemos/anaconda3/envs/poc_dask/lib/python3.11/site-packages/sqlalchemy/engine/base.py:1965\u001b[0m, in \u001b[0;36m_exec_single_context\u001b[0;34m()\u001b[0m\n",
      "File \u001b[0;32m/home/thiago_lemos/anaconda3/envs/poc_dask/lib/python3.11/site-packages/sqlalchemy/engine/default.py:921\u001b[0m, in \u001b[0;36mdo_execute\u001b[0;34m()\u001b[0m\n",
      "\u001b[0;31mOperationalError\u001b[0m: (cx_Oracle.OperationalError) ORA-00604: error occurred at recursive SQL level 1\nORA-12954: The request exceeds the maximum allowed database size of 12 GB.\n[SQL: \nDROP TABLE tb_raw_data]\n(Background on this error at: https://sqlalche.me/e/20/e3q8)",
      "\nDuring handling of the above exception, another exception occurred:\n",
      "\u001b[0;31mAttributeError\u001b[0m                            Traceback (most recent call last)",
      "Cell \u001b[0;32mIn[12], line 4\u001b[0m\n\u001b[1;32m      2\u001b[0m utils\u001b[38;5;241m.\u001b[39minsere_log_inicio(nome_processo\u001b[38;5;241m=\u001b[39m\u001b[38;5;124m'\u001b[39m\u001b[38;5;124mPipeline_Raw\u001b[39m\u001b[38;5;124m'\u001b[39m,timestamp_ini\u001b[38;5;241m=\u001b[39mtimestamp_ini)\n\u001b[1;32m      3\u001b[0m df\u001b[38;5;241m=\u001b[39mread_raw_data(data,timestamp_ini)\n\u001b[0;32m----> 4\u001b[0m \u001b[43mpipeline_raw_oracle\u001b[49m\u001b[43m(\u001b[49m\u001b[43mdf\u001b[49m\u001b[43m,\u001b[49m\u001b[43mtimestamp_ini\u001b[49m\u001b[43m)\u001b[49m\n",
      "Cell \u001b[0;32mIn[11], line 20\u001b[0m, in \u001b[0;36mpipeline_raw_oracle\u001b[0;34m(df, timestamp_ini)\u001b[0m\n\u001b[1;32m     18\u001b[0m \u001b[38;5;28;01mexcept\u001b[39;00m \u001b[38;5;167;01mException\u001b[39;00m \u001b[38;5;28;01mas\u001b[39;00m e:\n\u001b[1;32m     19\u001b[0m     logger\u001b[38;5;241m.\u001b[39merror(\u001b[38;5;124m\"\u001b[39m\u001b[38;5;124mErro no envio bruto para o Oracle\u001b[39m\u001b[38;5;124m\"\u001b[39m)\n\u001b[0;32m---> 20\u001b[0m     \u001b[43mutils\u001b[49m\u001b[38;5;241;43m.\u001b[39;49m\u001b[43mupdate_log_fim\u001b[49m(nome_processo\u001b[38;5;241m=\u001b[39m\u001b[38;5;124m'\u001b[39m\u001b[38;5;124mPipeline_Raw\u001b[39m\u001b[38;5;124m'\u001b[39m,timestamp_ini\u001b[38;5;241m=\u001b[39mtimestamp_ini,status\u001b[38;5;241m=\u001b[39m\u001b[38;5;124m'\u001b[39m\u001b[38;5;124mFalha\u001b[39m\u001b[38;5;124m'\u001b[39m,motivo_erro\u001b[38;5;241m=\u001b[39m\u001b[38;5;124mf\u001b[39m\u001b[38;5;124m'\u001b[39m\u001b[38;5;132;01m{\u001b[39;00me\u001b[38;5;241m.\u001b[39m\u001b[38;5;18m__class__\u001b[39m\u001b[38;5;241m.\u001b[39m\u001b[38;5;18m__name__\u001b[39m\u001b[38;5;132;01m}\u001b[39;00m\u001b[38;5;124m: \u001b[39m\u001b[38;5;132;01m{\u001b[39;00me\u001b[38;5;132;01m}\u001b[39;00m\u001b[38;5;124m'\u001b[39m)\n",
      "\u001b[0;31mAttributeError\u001b[0m: module 'utils' has no attribute 'update_log_fim'"
     ]
    }
   ],
   "source": [
    "timestamp_ini=datetime.today()\n",
    "utils.insere_log_inicio(nome_processo='Pipeline_Raw',timestamp_ini=timestamp_ini)\n",
    "df=read_raw_data(data,timestamp_ini)\n",
    "pipeline_raw_oracle(df,timestamp_ini)"
   ]
  },
  {
   "cell_type": "markdown",
   "id": "b036d175-fd2b-4623-84d9-9ad77a214f64",
   "metadata": {},
   "source": [
    "FUNÇÃO RELATORIO DE VALORES FEVEREIRO\n",
    "===================================================================================="
   ]
  },
  {
   "cell_type": "code",
   "execution_count": 32,
   "id": "23290e7a-05a5-41e2-bc4d-50df6c8d003f",
   "metadata": {},
   "outputs": [],
   "source": [
    "def soma_valores_fevereiro(df,colunas):\n",
    "    #Aplica as regras de negocio\n",
    "    try:\n",
    "        start_time = time.time()\n",
    "        logger.info(\"Iniciando Processo SomaValoresFevereiro\")\n",
    "        df=df.drop_duplicates()\n",
    "        df_result = (df.assign(dat_ult_at=dd.to_datetime(df['dat_ult_at'],format='%Y-%m-%d',errors='coerce'))\n",
    "                    .query(\"cod==1 & dat_ult_at.between('2023-02-01','2023-02-28')\")\n",
    "                    .groupby(['cod','dat_ult_at'])['vlr_doc_seg_emit','vlr_premio_cobra','vlr_sinistro_avi','vlr_sinistro_pag'].sum()\n",
    "                    .to_sql(\"tb_soma_valores_fevereiro\",url_db, if_exists='replace', index=True,  compute=True, parallel=True, chunksize=500, dtype={\n",
    "                        k.lower(): p.oracle_types[v] for (k,v) in p.schema_base.items() if k.lower() in colunas\n",
    "                    }\n",
    "           ))\n",
    "        end_time = time.time()\n",
    "        elapsed_time = end_time - start_time\n",
    "        logger.success(f\"Inserção concluida,{round(elapsed_time,2)} \")\n",
    "    except:\n",
    "        logger.error(f\"Erro na task SomaValoresFevereiro\" )"
   ]
  },
  {
   "cell_type": "code",
   "execution_count": 37,
   "id": "7f12f668-fca4-4861-8e61-a83e747977ca",
   "metadata": {},
   "outputs": [
    {
     "name": "stderr",
     "output_type": "stream",
     "text": [
      "\u001b[32m2023-09-11 13:06:32.071\u001b[0m | \u001b[1mINFO    \u001b[0m | \u001b[36m__main__\u001b[0m:\u001b[36mread_oracle\u001b[0m:\u001b[36m4\u001b[0m - \u001b[1mIniciando leitura do Oracle\u001b[0m\n",
      "\u001b[32m2023-09-11 13:06:32.158\u001b[0m | \u001b[31m\u001b[1mERROR   \u001b[0m | \u001b[36m__main__\u001b[0m:\u001b[36mread_oracle\u001b[0m:\u001b[36m23\u001b[0m - \u001b[31m\u001b[1mErro na leitura do Oracle: tb_raw_data\u001b[0m\n",
      "\u001b[32m2023-09-11 13:06:32.160\u001b[0m | \u001b[1mINFO    \u001b[0m | \u001b[36m__main__\u001b[0m:\u001b[36msoma_valores_fevereiro\u001b[0m:\u001b[36m5\u001b[0m - \u001b[1mIniciando Processo SomaValoresFevereiro\u001b[0m\n",
      "\u001b[32m2023-09-11 13:06:32.162\u001b[0m | \u001b[31m\u001b[1mERROR   \u001b[0m | \u001b[36m__main__\u001b[0m:\u001b[36msoma_valores_fevereiro\u001b[0m:\u001b[36m18\u001b[0m - \u001b[31m\u001b[1mErro na task SomaValoresFevereiro\u001b[0m\n"
     ]
    }
   ],
   "source": [
    "#%%timeit\n",
    "colunas= ['cod','dat_ult_at','vlr_doc_seg_emit','vlr_premio_cobra','vlr_sinistro_avi','vlr_sinistro_pag']\n",
    "df=read_oracle(colunas)\n",
    "soma_valores_fevereiro(df,colunas)"
   ]
  },
  {
   "cell_type": "markdown",
   "id": "e275a52c-323f-44a1-b70c-64d1cb419762",
   "metadata": {},
   "source": [
    "FUNÇÃO CONSULTA TABELA DE REFERÊNCIA\n",
    "===================================================================================="
   ]
  },
  {
   "cell_type": "code",
   "execution_count": 132,
   "id": "8d7a479a-d241-43a5-b73a-bdc3cef98c9f",
   "metadata": {},
   "outputs": [],
   "source": [
    "def consulta_tab_ref(df, colunas):\n",
    "    try:\n",
    "        start_time = time.time()\n",
    "        logger.info(\"Iniciando Processo ConsultaTabRef\")\n",
    "        df_ref = dd.read_sql(sql='table_ref', con=url_db,index_col= 'cod')\n",
    "        df_merge= dd.merge(df,df_ref, how='left', left_index = True, right_index = True)\n",
    "        df_merge=(df_merge.fillna({\n",
    "            'nome_cliente': \"Cliente não encontrado\"\n",
    "        }).to_sql(\"tb_consulta_ref\",url_db, if_exists='replace', index=True,  compute=True, parallel=True, chunksize=500,dtype={\n",
    "                        k.lower(): p.oracle_types[v] for (k,v) in p.schema_base.items() if k.lower() in colunas\n",
    "                    }))\n",
    "        end_time = time.time()\n",
    "        elapsed_time = end_time - start_time\n",
    "        logger.success(f\"Inserção concluida,{round(elapsed_time,2)} \")\n",
    "    except: \n",
    "        logger.error(f\"Erro na task ConsultaTabRef\" )\n"
   ]
  },
  {
   "cell_type": "code",
   "execution_count": 133,
   "id": "f784c1f9-dd9b-4fec-a892-113fd67ba559",
   "metadata": {},
   "outputs": [],
   "source": [
    "#%%timeit \n",
    "colunas= ['cod','dat_ult_at','vlr_doc_seg_emit','vlr_premio_cobra','vlr_sinistro_avi','vlr_sinistro_pag']\n",
    "df=read_oracle(colunas)\n",
    "consulta_tab_ref(df,colunas)\n"
   ]
  },
  {
   "cell_type": "markdown",
   "id": "314644e3-ad42-476e-b8a9-219e478dea71",
   "metadata": {},
   "source": [
    "FUNÇÃO SEPARA COD RA\n",
    "====================================================================================\n"
   ]
  },
  {
   "cell_type": "code",
   "execution_count": 134,
   "id": "00e347ad-2a64-40e7-b60f-3f35cee1fa93",
   "metadata": {},
   "outputs": [],
   "source": [
    "def filtra_cod(cod):\n",
    "    try:\n",
    "        start_time = time.time()\n",
    "        logger.info(f\"Iniciando inserção tabela {cod}\")\n",
    "        df_codra = client.persist(df[df['cod_ra']==cod])\n",
    "        df_codra.to_sql(f\"tb_codra_dask_{cod}\",url_db, if_exists='replace', index=False, compute = True, parallel = True, chunksize=500,dtype={\n",
    "            k.lower(): p.oracle_types[v] for (k,v) in p.schema_base.items()\n",
    "            })\n",
    "        end_time = time.time()\n",
    "        elapsed_time = end_time - start_time\n",
    "        logger.success(f\"Inserção da tabela {cod} concluida,{elapsed_time} \")\n",
    "    except:\n",
    "        logger.error(\"Erro na task FiltraCodRa\")\n",
    "\n",
    "async def escreve_tabelas():\n",
    "    tasks = [asyncio.to_thread(filtra_cod, cod) for cod in df.cod_ra.unique()]\n",
    "    res = await asyncio.gather(*tasks)"
   ]
  },
  {
   "cell_type": "code",
   "execution_count": 135,
   "id": "43a7f2f5-c7b6-4178-af8c-e009062a58ba",
   "metadata": {},
   "outputs": [],
   "source": [
    "#for i in range(7):\n",
    "df=read_oracle(meta=p.meta_schema)\n",
    "df=client.persist(df)    \n",
    "await escreve_tabelas()"
   ]
  },
  {
   "cell_type": "markdown",
   "id": "bec8b022-a2fa-4f66-bb39-df1f9a40d656",
   "metadata": {},
   "source": [
    "Pandera \n",
    "="
   ]
  },
  {
   "cell_type": "code",
   "execution_count": null,
   "id": "109f66d8-a3ff-4dda-b371-c29fb8ccf369",
   "metadata": {},
   "outputs": [],
   "source": [
    "schema= pa.DataFrameSchema({\n",
    "    '00AAAJ': pa.Column(str,checks=pa.Check.isin(['aaaa']))\n",
    "})"
   ]
  },
  {
   "cell_type": "code",
   "execution_count": null,
   "id": "ace29934-2446-4626-aebf-ff9e97111677",
   "metadata": {},
   "outputs": [],
   "source": [
    "df = dd.read_sql_table(table_name='tb_raw_data', con=url_db,index_col= 'cod', meta= meta_schema)\n",
    "df=client.persist(df)"
   ]
  },
  {
   "cell_type": "code",
   "execution_count": null,
   "id": "2db19af4-2b76-4e0d-ba3b-b61d4aa18501",
   "metadata": {},
   "outputs": [],
   "source": [
    "try:\n",
    "    schema.validate(df.compute())\n",
    "except pa.errors.SchemaError as err: \n",
    "    df_erros= err.failure_cases\n",
    "    "
   ]
  },
  {
   "cell_type": "code",
   "execution_count": null,
   "id": "73710d05-909b-4084-a426-1b2e8ac2de3a",
   "metadata": {},
   "outputs": [],
   "source": [
    "df_erros.info"
   ]
  },
  {
   "cell_type": "code",
   "execution_count": null,
   "id": "b1ac9ec5-018f-4264-be17-dfa3ccb7471d",
   "metadata": {},
   "outputs": [],
   "source": []
  }
 ],
 "metadata": {
  "kernelspec": {
   "display_name": "Python 3 (ipykernel)",
   "language": "python",
   "name": "python3"
  },
  "language_info": {
   "codemirror_mode": {
    "name": "ipython",
    "version": 3
   },
   "file_extension": ".py",
   "mimetype": "text/x-python",
   "name": "python",
   "nbconvert_exporter": "python",
   "pygments_lexer": "ipython3",
   "version": "3.11.4"
  }
 },
 "nbformat": 4,
 "nbformat_minor": 5
}
