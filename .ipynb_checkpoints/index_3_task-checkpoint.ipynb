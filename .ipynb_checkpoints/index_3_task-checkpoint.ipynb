{
 "cells": [
  {
   "cell_type": "code",
   "execution_count": 117,
   "id": "b5e1c542-30a8-49d4-b5d5-aca6aa737eea",
   "metadata": {},
   "outputs": [],
   "source": [
    "import parametros as par\n",
    "import dask.dataframe as dd\n",
    "from dask.distributed import Client\n",
    "import time\n",
    "import asyncio\n",
    "import pandas as pd\n",
    "from loguru import logger\n",
    "#from pandera.typing.dask import DataFrame, Series\n",
    "#import pandera as pa\n",
    "from sqlalchemy import table, column, select, types, Float\n",
    "from sqlalchemy.dialects import oracle\n",
    "from datetime import datetime\n",
    "import sys\n"
   ]
  },
  {
   "cell_type": "code",
   "execution_count": 118,
   "id": "bed929eb-7a7d-4a25-9389-747d3fac766c",
   "metadata": {},
   "outputs": [],
   "source": [
    "client= Client(\"tcp://10.128.0.48:8786\")"
   ]
  },
  {
   "cell_type": "code",
   "execution_count": 119,
   "id": "236ff5c6-2219-4fac-a071-361fe58d7053",
   "metadata": {},
   "outputs": [],
   "source": [
    "p=par.ParamApdw()"
   ]
  },
  {
   "cell_type": "code",
   "execution_count": 120,
   "id": "8c764a46-4b46-42a8-8a8d-722817f1d4b7",
   "metadata": {},
   "outputs": [],
   "source": [
    "data=p.arquivo_origem"
   ]
  },
  {
   "cell_type": "code",
   "execution_count": 121,
   "id": "7bfa3935-bae4-423a-9f93-c57903d1dc18",
   "metadata": {},
   "outputs": [],
   "source": [
    "url_db = p.url_db"
   ]
  },
  {
   "cell_type": "code",
   "execution_count": 136,
   "id": "b4509670-3fed-4fbf-9b49-857ed4ece320",
   "metadata": {},
   "outputs": [
    {
     "data": {
      "text/plain": [
       "3"
      ]
     },
     "execution_count": 136,
     "metadata": {},
     "output_type": "execute_result"
    }
   ],
   "source": [
    "timestamp=datetime.today().strftime('%Y-%m-%d_%H:%M')\n",
    "logger.add(f'out_{timestamp}.log', level=\"TRACE\")"
   ]
  },
  {
   "cell_type": "code",
   "execution_count": 137,
   "id": "e6bb99ff-573d-4146-97e5-8f5964c00d99",
   "metadata": {},
   "outputs": [],
   "source": [
    "def read_oracle(colunas=None,meta=None):\n",
    "    #le  a tabela\n",
    "    try:\n",
    "        logger.info(\"Iniciando leitura do Oracle\")\n",
    "        if (colunas is None) & (meta is None) :\n",
    "            df = dd.read_sql_table(table_name='tb_raw_data', con=url_db,index_col= 'cod', dtype={\n",
    "                k.lower(): p.schema_base[k] for k in p.schema_base \n",
    "                }).reset_index()\n",
    "            #erro abaixo sucess\n",
    "            logger.success(\"Leitura de toda a tabela concluida.\")\n",
    "            return df\n",
    "        elif meta is not None:\n",
    "            df = dd.read_sql_table(table_name='tb_raw_data', con=url_db,index_col= 'cod', meta= p.meta_schema)\n",
    "            logger.success(\"Leitura dos Metadados concluida.\")\n",
    "            return df\n",
    "        else:\n",
    "            df = dd.read_sql_table(table_name='tb_raw_data', columns=colunas, con=url_db,index_col= 'cod', dtype={\n",
    "                k.lower(): p.schema_base[k] for k in p.schema_base if k.lower() in colunas\n",
    "                }).reset_index()\n",
    "            logger.success(\"Leitura das colunas concluida.\")\n",
    "            return df\n",
    "    except:\n",
    "        logger.error(\"Erro na leitura do Oracle\")\n",
    "        "
   ]
  },
  {
   "cell_type": "markdown",
   "id": "ce12e08b-cfd1-45a7-b615-b8ebb49d601a",
   "metadata": {},
   "source": [
    "LEITURA BRUTA DE DADOS DO DIRETORIO\n",
    "===================================================================================="
   ]
  },
  {
   "cell_type": "code",
   "execution_count": 138,
   "id": "cb6aef3d-b9c4-45be-88c4-c312538193da",
   "metadata": {},
   "outputs": [],
   "source": [
    "def read_raw_data(data):\n",
    "    #le os dados\n",
    "    try:\n",
    "        logger.info(\"Lendo dados\")\n",
    "        df=dd.read_csv(data, sep=\"|\", assume_missing=True).astype(dtype=p.raw_schema_base)\n",
    "        logger.success(\"Leitura concluida\")\n",
    "        return df\n",
    "    except:\n",
    "        logger.error(\"Erro na leitura do arquivo\")\n",
    "    "
   ]
  },
  {
   "cell_type": "code",
   "execution_count": 139,
   "id": "510f9fe7-f298-4fbc-b6a5-55cab0df0d0f",
   "metadata": {},
   "outputs": [],
   "source": [
    "def pipeline_raw_oracle(df):    \n",
    "    try:\n",
    "        start_time = time.time()\n",
    "        logger.info(\"Iniciando Inserção no Oracle\")\n",
    "        df_result=(\n",
    "            df.drop('Unnamed: 11', axis=1)\n",
    "              .assign(DAT_ULT_AT=dd.to_datetime(df['DAT_ULT_AT'],format='%Y-%m-%d',errors='coerce'))\n",
    "              .to_sql(\"tb_raw_data\",url_db, if_exists='replace', index=False,  \n",
    "                      compute=True, parallel=True, chunksize=500,dtype={\n",
    "                          k: p.oracle_types[v] for (k,v) in p.schema_base.items() if k in (p.raw_schema_base.keys())\n",
    "                      }\n",
    "                     )            \n",
    "        )\n",
    "        end_time = time.time()\n",
    "        elapsed_time = end_time - start_time\n",
    "        logger.success(f\"Inserção concluida, {round(elapsed_time,2)} segs \")\n",
    "    except:\n",
    "        logger.error(\"Erro no envio bruto para o Oracle\")   \n"
   ]
  },
  {
   "cell_type": "code",
   "execution_count": 140,
   "id": "a1eaf7ed-6f14-4c13-a504-ddd33fe94b9c",
   "metadata": {},
   "outputs": [],
   "source": [
    "df=read_raw_data(data)\n",
    "pipeline_raw_oracle(df)"
   ]
  },
  {
   "cell_type": "markdown",
   "id": "b036d175-fd2b-4623-84d9-9ad77a214f64",
   "metadata": {},
   "source": [
    "FUNÇÃO RELATORIO DE VALORES FEVEREIRO\n",
    "===================================================================================="
   ]
  },
  {
   "cell_type": "code",
   "execution_count": 130,
   "id": "23290e7a-05a5-41e2-bc4d-50df6c8d003f",
   "metadata": {},
   "outputs": [],
   "source": [
    "def soma_valores_fevereiro(df,colunas):\n",
    "    #Aplica as regras de negocio\n",
    "    try:\n",
    "        start_time = time.time()\n",
    "        logger.info(\"Iniciando Processo SomaValoresFevereiro\")\n",
    "        df=df.drop_duplicates()\n",
    "        df_result = (df.assign(dat_ult_at=dd.to_datetime(df['dat_ult_at'],format='%Y-%m-%d',errors='coerce'))\n",
    "                    .query(\"cod==1 & dat_ult_at.between('2023-02-01','2023-02-28')\")\n",
    "                    .groupby(['cod','dat_ult_at'])['vlr_doc_seg_emit','vlr_premio_cobra','vlr_sinistro_avi','vlr_sinistro_pag'].sum()\n",
    "                    .to_sql(\"tb_soma_valores_fevereiro\",url_db, if_exists='replace', index=True,  compute=True, parallel=True, chunksize=500, dtype={\n",
    "                        k.lower(): p.oracle_types[v] for (k,v) in p.schema_base.items() if k.lower() in colunas\n",
    "                    }\n",
    "           ))\n",
    "        end_time = time.time()\n",
    "        elapsed_time = end_time - start_time\n",
    "        logger.success(f\"Inserção concluida,{round(elapsed_time,2)} \")\n",
    "    except:\n",
    "        logger.error(f\"Erro na task SomaValoresFevereiro\" )"
   ]
  },
  {
   "cell_type": "code",
   "execution_count": 131,
   "id": "7f12f668-fca4-4861-8e61-a83e747977ca",
   "metadata": {},
   "outputs": [],
   "source": [
    "#%%timeit\n",
    "colunas= ['cod','dat_ult_at','vlr_doc_seg_emit','vlr_premio_cobra','vlr_sinistro_avi','vlr_sinistro_pag']\n",
    "df=read_oracle(colunas)\n",
    "soma_valores_fevereiro(df,colunas)"
   ]
  },
  {
   "cell_type": "markdown",
   "id": "e275a52c-323f-44a1-b70c-64d1cb419762",
   "metadata": {},
   "source": [
    "FUNÇÃO CONSULTA TABELA DE REFERÊNCIA\n",
    "===================================================================================="
   ]
  },
  {
   "cell_type": "code",
   "execution_count": 132,
   "id": "8d7a479a-d241-43a5-b73a-bdc3cef98c9f",
   "metadata": {},
   "outputs": [],
   "source": [
    "def consulta_tab_ref(df, colunas):\n",
    "    try:\n",
    "        start_time = time.time()\n",
    "        logger.info(\"Iniciando Processo ConsultaTabRef\")\n",
    "        df_ref = dd.read_sql(sql='table_ref', con=url_db,index_col= 'cod')\n",
    "        df_merge= dd.merge(df,df_ref, how='left', left_index = True, right_index = True)\n",
    "        df_merge=(df_merge.fillna({\n",
    "            'nome_cliente': \"Cliente não encontrado\"\n",
    "        }).to_sql(\"tb_consulta_ref\",url_db, if_exists='replace', index=True,  compute=True, parallel=True, chunksize=500,dtype={\n",
    "                        k.lower(): p.oracle_types[v] for (k,v) in p.schema_base.items() if k.lower() in colunas\n",
    "                    }))\n",
    "        end_time = time.time()\n",
    "        elapsed_time = end_time - start_time\n",
    "        logger.success(f\"Inserção concluida,{round(elapsed_time,2)} \")\n",
    "    except: \n",
    "        logger.error(f\"Erro na task ConsultaTabRef\" )\n"
   ]
  },
  {
   "cell_type": "code",
   "execution_count": 133,
   "id": "f784c1f9-dd9b-4fec-a892-113fd67ba559",
   "metadata": {},
   "outputs": [],
   "source": [
    "#%%timeit \n",
    "colunas= ['cod','dat_ult_at','vlr_doc_seg_emit','vlr_premio_cobra','vlr_sinistro_avi','vlr_sinistro_pag']\n",
    "df=read_oracle(colunas)\n",
    "consulta_tab_ref(df,colunas)\n"
   ]
  },
  {
   "cell_type": "markdown",
   "id": "314644e3-ad42-476e-b8a9-219e478dea71",
   "metadata": {},
   "source": [
    "FUNÇÃO SEPARA COD RA\n",
    "====================================================================================\n"
   ]
  },
  {
   "cell_type": "code",
   "execution_count": 134,
   "id": "00e347ad-2a64-40e7-b60f-3f35cee1fa93",
   "metadata": {},
   "outputs": [],
   "source": [
    "def filtra_cod(cod):\n",
    "    try:\n",
    "        start_time = time.time()\n",
    "        logger.info(f\"Iniciando inserção tabela {cod}\")\n",
    "        df_codra = client.persist(df[df['cod_ra']==cod])\n",
    "        df_codra.to_sql(f\"tb_codra_dask_{cod}\",url_db, if_exists='replace', index=False, compute = True, parallel = True, chunksize=500,dtype={\n",
    "            k.lower(): p.oracle_types[v] for (k,v) in p.schema_base.items()\n",
    "            })\n",
    "        end_time = time.time()\n",
    "        elapsed_time = end_time - start_time\n",
    "        logger.success(f\"Inserção da tabela {cod} concluida,{elapsed_time} \")\n",
    "    except:\n",
    "        logger.error(\"Erro na task FiltraCodRa\")\n",
    "\n",
    "async def escreve_tabelas():\n",
    "    tasks = [asyncio.to_thread(filtra_cod, cod) for cod in df.cod_ra.unique()]\n",
    "    res = await asyncio.gather(*tasks)"
   ]
  },
  {
   "cell_type": "code",
   "execution_count": 135,
   "id": "43a7f2f5-c7b6-4178-af8c-e009062a58ba",
   "metadata": {},
   "outputs": [],
   "source": [
    "#for i in range(7):\n",
    "df=read_oracle(meta=p.meta_schema)\n",
    "df=client.persist(df)    \n",
    "await escreve_tabelas()"
   ]
  },
  {
   "cell_type": "markdown",
   "id": "bec8b022-a2fa-4f66-bb39-df1f9a40d656",
   "metadata": {},
   "source": [
    "Pandera \n",
    "="
   ]
  },
  {
   "cell_type": "code",
   "execution_count": null,
   "id": "109f66d8-a3ff-4dda-b371-c29fb8ccf369",
   "metadata": {},
   "outputs": [],
   "source": [
    "schema= pa.DataFrameSchema({\n",
    "    '00AAAJ': pa.Column(str,checks=pa.Check.isin(['aaaa']))\n",
    "})"
   ]
  },
  {
   "cell_type": "code",
   "execution_count": null,
   "id": "ace29934-2446-4626-aebf-ff9e97111677",
   "metadata": {},
   "outputs": [],
   "source": [
    "df = dd.read_sql_table(table_name='tb_raw_data', con=url_db,index_col= 'cod', meta= meta_schema)\n",
    "df=client.persist(df)"
   ]
  },
  {
   "cell_type": "code",
   "execution_count": null,
   "id": "2db19af4-2b76-4e0d-ba3b-b61d4aa18501",
   "metadata": {},
   "outputs": [],
   "source": [
    "try:\n",
    "    schema.validate(df.compute())\n",
    "except pa.errors.SchemaError as err: \n",
    "    df_erros= err.failure_cases\n",
    "    "
   ]
  },
  {
   "cell_type": "code",
   "execution_count": null,
   "id": "73710d05-909b-4084-a426-1b2e8ac2de3a",
   "metadata": {},
   "outputs": [],
   "source": [
    "df_erros.info"
   ]
  },
  {
   "cell_type": "code",
   "execution_count": null,
   "id": "b1ac9ec5-018f-4264-be17-dfa3ccb7471d",
   "metadata": {},
   "outputs": [],
   "source": []
  }
 ],
 "metadata": {
  "kernelspec": {
   "display_name": "Python 3 (ipykernel)",
   "language": "python",
   "name": "python3"
  },
  "language_info": {
   "codemirror_mode": {
    "name": "ipython",
    "version": 3
   },
   "file_extension": ".py",
   "mimetype": "text/x-python",
   "name": "python",
   "nbconvert_exporter": "python",
   "pygments_lexer": "ipython3",
   "version": "3.11.4"
  }
 },
 "nbformat": 4,
 "nbformat_minor": 5
}
